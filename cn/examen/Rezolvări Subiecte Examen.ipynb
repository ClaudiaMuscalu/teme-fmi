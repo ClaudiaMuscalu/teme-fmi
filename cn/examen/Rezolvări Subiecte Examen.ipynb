{
 "cells": [
  {
   "cell_type": "markdown",
   "metadata": {},
   "source": [
    "# Calcul Numeric - Subiecte de examen"
   ]
  },
  {
   "cell_type": "code",
   "execution_count": 30,
   "metadata": {},
   "outputs": [],
   "source": [
    "import math\n",
    "import numpy as np\n",
    "import matplotlib.pyplot as plt"
   ]
  },
  {
   "cell_type": "markdown",
   "metadata": {},
   "source": [
    "## Exercițiul 1\n",
    "\n",
    "Metoda bisecției - secțiunea I.1 din [cursul 1](https://drive.google.com/file/d/1hUFKessAxlGIT_gNFlH7-4yyuyQ_4vFe/view)"
   ]
  },
  {
   "cell_type": "markdown",
   "metadata": {},
   "source": [
    "### a)\n",
    "\n",
    "Pentru a găsi intervalele de monotonie ale lui $f(x) = x^3 - 4x + 1$, calculăm derivata funcției: $f'(x) = 3x^2 - 4$.\n",
    "\n",
    "Vedem că derivata se anulează în $\\pm \\frac{2 \\sqrt{3}}{3}$. Deci intervalele de monotonie sunt:\n",
    "- $\\left(-\\infty, -\\frac{2 \\sqrt{3}}{3}\\right)$\n",
    "- $\\left(-\\frac{2 \\sqrt{3}}{3}, +\\frac{2 \\sqrt{3}}{3}\\right)$\n",
    "- $\\left(+\\frac{2 \\sqrt{3}}{3}, +\\infty\\right)$"
   ]
  },
  {
   "cell_type": "markdown",
   "metadata": {},
   "source": [
    "### b)\n",
    "\n",
    "Observăm că $f\\left(+ \\frac{2 \\sqrt{3}}{3}\\right) < 0$, și de exemplu $f(4) > 0$. Deci în acest interval funcția are cel puțin o soluție reală. Dar deoarece este și monotonă pe $\\left(\\frac{2 \\sqrt{3}}{3}, +\\infty\\right)$, această soluție este unică."
   ]
  },
  {
   "cell_type": "markdown",
   "metadata": {},
   "source": [
    "### c)"
   ]
  },
  {
   "cell_type": "code",
   "execution_count": 31,
   "metadata": {},
   "outputs": [
    {
     "name": "stdout",
     "output_type": "stream",
     "text": [
      "a = -4, b = -1, error = inf\n",
      "a = -2.5, b = -1, error = 0.30012004801920766\n",
      "a = -2.5, b = -1.75, error = 0.2144082332761578\n",
      "a = -2.125, b = -1.75, error = 0.08827683615819208\n",
      "a = -2.125, b = -1.9375, error = 0.04841208365608055\n",
      "a = -2.125, b = -2.03125, error = 0.023088289619504987\n",
      "a = -2.125, b = -2.078125, error = 0.011283625203105253\n",
      "a = -2.125, b = -2.1015625, error = 0.005578862804605909\n",
      "a = -2.125, b = -2.11328125, error = 0.0027739558830056367\n",
      "a = -2.119140625, b = -2.11328125, error = 0.0013831411689202646\n",
      "a = -2.1162109375, b = -2.11328125, error = 0.0006925284490686877\n",
      "x1 = -2.115478515625\n",
      "a = -1, b = 1, error = inf\n",
      "a = 0.0, b = 1, error = 500.0\n",
      "a = 0.0, b = 0.5, error = 0.499001996007984\n",
      "a = 0.25, b = 0.5, error = 0.49800796812749004\n",
      "a = 0.25, b = 0.375, error = 0.16622340425531915\n",
      "a = 0.25, b = 0.3125, error = 0.09968102073365231\n",
      "a = 0.25, b = 0.28125, error = 0.05535872453498671\n",
      "a = 0.25, b = 0.265625, error = 0.029301453352086265\n",
      "a = 0.25, b = 0.2578125, error = 0.015092972711905336\n",
      "a = 0.25390625, b = 0.2578125, error = 0.007662130685300968\n",
      "x2 = 0.2548828125\n",
      "a = 1, b = 4, error = inf\n",
      "a = 1, b = 2.5, error = 0.2998800479808077\n",
      "a = 1.75, b = 2.5, error = 0.21416333523700745\n",
      "a = 1.75, b = 2.125, error = 0.08819379115710255\n",
      "a = 1.75, b = 1.9375, error = 0.04836213567191128\n",
      "a = 1.84375, b = 1.9375, error = 0.025409947147309934\n",
      "a = 1.84375, b = 1.890625, error = 0.012390140751998943\n",
      "a = 1.84375, b = 1.8671875, error = 0.006272791141146165\n",
      "a = 1.85546875, b = 1.8671875, error = 0.003156193714545424\n",
      "a = 1.85546875, b = 1.861328125, error = 0.001573131748735202\n",
      "a = 1.8583984375, b = 1.861328125, error = 0.0007878051957328269\n",
      "x3 = 1.860595703125\n"
     ]
    }
   ],
   "source": [
    "def bisection_search(f, a, b, epsilon=1e-3):\n",
    "    # Calculăm valorile în capete\n",
    "    f_a = f(a)\n",
    "    f_b = f(b)\n",
    "\n",
    "    # Prima estimare, mijlocul intervalului inițial\n",
    "    x_num = (a + b) / 2\n",
    "\n",
    "    # Numărul necesar de iterații\n",
    "    num_iterations = math.floor(math.log2((b - a) / epsilon) - 1) + 1\n",
    "    \n",
    "    last_rel_error = math.inf\n",
    "\n",
    "    # Aplicăm algoritmul\n",
    "    for step in range(num_iterations):\n",
    "    \n",
    "        print(f\"a = {a}, b = {b}, error = {last_rel_error}\")\n",
    "        value = f(x_num)\n",
    "\n",
    "        # Am găsit fix valoarea căutată, ieșim\n",
    "        if value == 0:\n",
    "            break\n",
    "        elif f_a * value < 0:\n",
    "            b = x_num\n",
    "        else:\n",
    "            a = x_num\n",
    "        \n",
    "        x_num_vechi = x_num\n",
    "        x_num = (a + b) / 2\n",
    "        \n",
    "        last_rel_error = abs((x_num - x_num_vechi)) / abs(x_num_vechi + epsilon)\n",
    "\n",
    "    return x_num\n",
    "\n",
    "f = lambda x: x ** 3 - 4 * x + 1\n",
    "print(\"x1 =\", bisection_search(f, -4, -1))\n",
    "print(\"x2 =\", bisection_search(f, -1, 1))\n",
    "print(\"x3 =\", bisection_search(f, 1, 4))"
   ]
  },
  {
   "cell_type": "markdown",
   "metadata": {},
   "source": [
    "## Exercițiul 2\n",
    "\n",
    "Metoda Newton-Rhapson - secțiunea I.2 din [cursul 1](https://drive.google.com/file/d/1hUFKessAxlGIT_gNFlH7-4yyuyQ_4vFe/view)"
   ]
  },
  {
   "cell_type": "markdown",
   "metadata": {},
   "source": [
    "### a)\n",
    "\n",
    "#### Formula\n",
    "\n",
    "Formula pentru următorul din șirul aproximărilor este\n",
    "\n",
    "$$x_k = x_{k-1} - \\frac{f (x_{k-1})}{f'(x_{k - 1})}$$\n",
    "\n",
    "#### Convergență \n",
    "\n",
    "Fie $f \\in C^2([a, b])$, $f'$ și $f''$ nu se anulează pe $[a, b]$ și $f(a) f(b) < 0$. \n",
    "\n",
    "Fie $x_0 \\in [a, b]$ astfel încât să aibă loc condiția\n",
    "\n",
    "$$f(x_0) f''(x_0) > 0$$\n",
    "\n",
    "atunci ecuația $f(x) = 0$ are o soluție unică $x^* \\in (a, b)$ iar șirul $x_k$ construit prin metoda Newton-Rhapson converge la $x^*$."
   ]
  },
  {
   "cell_type": "markdown",
   "metadata": {},
   "source": [
    "### b)\n",
    "\n",
    "Fie $f(x) = x^2 + 2 x − 1$, $f \\colon [0.1, 2] \\to \\mathbb{R}$.\n",
    "\n",
    "Atunci $f'(x) = 2x + 2$, $f''(x) = 2$.\n",
    "\n",
    "Avem că:\n",
    "- $f$ este de clasă $C^2$\n",
    "- $f'$ și $f''$ nu se anulează pe $[0.1, 2]$\n",
    "- $f(0.1) f(2) = -0.79 \\cdot 7 < 0$\n",
    "\n",
    "Dacă luăm $x_0 = 1$ avem $f(x_0) f''(x_0) = 2 \\cdot 2 > 0$, deci ipotezele teoremei de convergență sunt satisfăcute."
   ]
  },
  {
   "cell_type": "markdown",
   "metadata": {},
   "source": [
    "### c)"
   ]
  },
  {
   "cell_type": "code",
   "execution_count": 29,
   "metadata": {},
   "outputs": [
    {
     "name": "stdout",
     "output_type": "stream",
     "text": [
      "x = 0.5, error = inf\n",
      "x = 0.4166666666666667, error = 0.16666666666666663\n",
      "x = 0.41421568627450983, error = 0.00588235294117645\n"
     ]
    },
    {
     "data": {
      "text/plain": [
       "0.41421356237468987"
      ]
     },
     "execution_count": 29,
     "metadata": {},
     "output_type": "execute_result"
    }
   ],
   "source": [
    "def newton_rhapson(f, df, x0, epsilon=1e-3):\n",
    "    # Primul punct este cel primit ca parametru\n",
    "    prev_x = x0\n",
    "    # Aplicăm prima iterație\n",
    "    x = x0 - f(x0) / df(x0)\n",
    "\n",
    "    # Continuăm să calculăm până avem precizia cerută.\n",
    "    last_rel_error = math.inf\n",
    "    while abs(x - prev_x) / abs(prev_x) > epsilon:\n",
    "        print(f\"x = {x}, error = {last_rel_error}\")\n",
    "        x, prev_x = x - f(x) / df(x), x\n",
    "\n",
    "        last_rel_error = abs((x - prev_x)) / abs(prev_x)\n",
    "\n",
    "    return x\n",
    "\n",
    "f = lambda x: x**2 + 2 * x - 1\n",
    "df = lambda x: 2 * x + 2\n",
    "x0 = 1\n",
    "newton_rhapson(f, df, x0)"
   ]
  },
  {
   "cell_type": "markdown",
   "metadata": {},
   "source": [
    "## Exercițiul 3"
   ]
  },
  {
   "cell_type": "code",
   "execution_count": 41,
   "metadata": {},
   "outputs": [],
   "source": [
    "A1 = np.array([\n",
    "    [1, 0, -2],\n",
    "    [2, -2, 0],\n",
    "    [1, 2, 1],\n",
    "], dtype=np.float64)\n",
    "b1 = np.array([\n",
    "    [-5],\n",
    "    [-6],\n",
    "    [5]\n",
    "], dtype=np.float64)\n",
    "\n",
    "A2 = np.array([\n",
    "    [2, -2, 1],\n",
    "    [1, 3, -2],\n",
    "    [3, -1, -1]\n",
    "], dtype=np.float64)\n",
    "b2 = np.array([\n",
    "    [-3],\n",
    "    [1],\n",
    "    [2]\n",
    "], dtype=np.float64)"
   ]
  },
  {
   "cell_type": "code",
   "execution_count": 46,
   "metadata": {},
   "outputs": [
    {
     "name": "stdout",
     "output_type": "stream",
     "text": [
      "[[ 1.  0. -2. -5.]\n",
      " [ 2. -2.  0. -6.]\n",
      " [ 1.  2.  1.  5.]]\n",
      "[[ 2. -2.  0. -6.]\n",
      " [ 0.  1. -2. -2.]\n",
      " [ 0.  3.  1.  8.]]\n",
      "[-1.  2.  2.]\n",
      "\n",
      "[[ 2. -2.  1. -3.]\n",
      " [ 1.  3. -2.  1.]\n",
      " [ 3. -1. -1.  2.]]\n",
      "[[ 3.          1.         -2.          1.        ]\n",
      " [ 0.          2.66666667 -0.33333333 -2.33333333]\n",
      " [ 0.          3.33333333 -1.66666667  2.33333333]]\n",
      "[-1.4 -2.  -4.2]\n"
     ]
    }
   ],
   "source": [
    "def compute_upper_triangular(A, b, partial_pivot=False, full_pivot=False):\n",
    "    \"\"\"Aduce un sistem la forma superior triunghiulară\n",
    "    folosind Gauss cu/fără pivotare totală/parțială.\n",
    "    \"\"\"\n",
    "    if partial_pivot and full_pivot:\n",
    "        raise Exception(\"Se poate folosi doar un tip de pivotare\")\n",
    "\n",
    "    N = A.shape[0]\n",
    "\n",
    "    # Formez matricea sistemului\n",
    "    M = np.concatenate((A, b), axis=1)\n",
    "\n",
    "    indices = np.arange(0, N)\n",
    "\n",
    "    for k in range(N - 1):\n",
    "        print(M)\n",
    "\n",
    "        if partial_pivot:\n",
    "            # Găsesc indicele elementului de valoare maximă\n",
    "            index = np.argmax(M[k:, k])\n",
    "\n",
    "            # Pivotez\n",
    "            M[[k, index]] = M[[index, k]]\n",
    "        elif full_pivot:\n",
    "            submatrix = M[k:, k:N - 1]\n",
    "            index = np.unravel_index(np.argmax(np.abs(submatrix)), submatrix.shape)\n",
    "\n",
    "            # Obțin indicii în matricea mare\n",
    "            index = (index[0] + k, index[1] + k)\n",
    "\n",
    "            M[[k, index[0]]] = M[[index[0], k]]\n",
    "            M[:, [k, index[1]]] = M[:, [index[1], k]]\n",
    "\n",
    "            indices[[k, index[1]]] = indices[[index[1], k]]\n",
    "\n",
    "        # Selectez coloana\n",
    "        ratios = M[k + 1:, k]\n",
    "\n",
    "        # Determin raportul pentru fiecare rând\n",
    "        ratios = ratios / M[k, k]\n",
    "\n",
    "        row = M[k, :]\n",
    "\n",
    "        # Înmulțesc fiecare raport cu primul rând\n",
    "        difference = np.outer(ratios, row)\n",
    "\n",
    "        # Actualizez matricea\n",
    "        M[k + 1:, :] -= difference\n",
    "\n",
    "    return M, indices\n",
    "\n",
    "\n",
    "def solve_upper_triangular(U, C, print_steps=False):\n",
    "    \"\"\"Rezolvă un sistem în formă superior triunghiulară,\n",
    "    folosind substituția descendentă.\n",
    "    \"\"\"\n",
    "    N = U.shape[0]\n",
    "\n",
    "    x = np.zeros(N)\n",
    "\n",
    "    # Merg de la ultima linie către prima,\n",
    "    # și rezolv pe rând ecuațiile prin substituție\n",
    "    for i in range(N - 1, -1, -1):\n",
    "        coefs = U[i, i + 1:]\n",
    "        values = x[i + 1:]\n",
    "\n",
    "        x[i] = (C[i] - coefs @ values) / U[i, i]\n",
    "\n",
    "        if print_steps:\n",
    "            print(\"Pasul\", N - i, \":\",\n",
    "                C[i], \"-\", coefs, \"@\", values, \")\",\n",
    "                \"/\", U[i, i])\n",
    "\n",
    "    return x\n",
    "\n",
    "\n",
    "def solve_system(A, b, pivot=None):\n",
    "    \"Rezolvă un sistem folosind metoda Gauss.\"\n",
    "\n",
    "    determinant = np.linalg.det(A)\n",
    "\n",
    "    if np.abs(determinant) < 1e-14:\n",
    "        # Sistemul nu are soluție\n",
    "        return None\n",
    "\n",
    "    partial_pivot = False\n",
    "    full_pivot = False\n",
    "\n",
    "    if pivot == \"full\":\n",
    "        full_pivot = True\n",
    "    elif pivot == \"partial\":\n",
    "        partial_pivot = True\n",
    "\n",
    "    M, indices = compute_upper_triangular(A, b, partial_pivot=partial_pivot, full_pivot=full_pivot)\n",
    "\n",
    "    N = A.shape[0]\n",
    "    U = M[:,:N]\n",
    "    C = M[:,N]\n",
    "\n",
    "    x = solve_upper_triangular(U, C)\n",
    "    x = x[indices]\n",
    "\n",
    "    return x\n",
    "\n",
    "print(solve_system(A1, b1, pivot='partial'))\n",
    "print()\n",
    "print(solve_system(A2, b2, pivot='full'))"
   ]
  },
  {
   "cell_type": "markdown",
   "metadata": {},
   "source": [
    "## Exercițiul 4"
   ]
  },
  {
   "cell_type": "code",
   "execution_count": 52,
   "metadata": {},
   "outputs": [],
   "source": [
    "A = np.array([\n",
    "    [2, 3, 1],\n",
    "    [4, 8, 4],\n",
    "    [-4, 0, 10],\n",
    "], dtype=np.float64)\n",
    "\n",
    "\n",
    "b = np.array([\n",
    "    [5],\n",
    "    [18],\n",
    "    [20],\n",
    "], dtype=np.float64)"
   ]
  },
  {
   "cell_type": "code",
   "execution_count": 53,
   "metadata": {},
   "outputs": [
    {
     "name": "stdout",
     "output_type": "stream",
     "text": [
      "L = \n",
      "[[ 1.     0.     0.   ]\n",
      " [-1.     1.     0.   ]\n",
      " [ 0.5   -0.125  1.   ]]\n",
      "U = \n",
      "[[ 4.    8.    4.  ]\n",
      " [ 0.    8.   14.  ]\n",
      " [ 0.    0.    0.75]]\n",
      "L @ U = \n",
      "[[ 4.  8.  4.]\n",
      " [-4.  0. 10.]\n",
      " [ 2.  3.  1.]]\n",
      "P @ A = \n",
      "[[ 4.  8.  4.]\n",
      " [-4.  0. 10.]\n",
      " [ 2.  3.  1.]]\n",
      "\n",
      "Rezolv pentru b =  [[ 5. 18. 20.]]\n",
      "Obțin y =  [18.   38.    0.75]\n",
      "Obțin x =  [-2.5  3.   1. ]\n",
      "Verificare: A @ x =  [ 5. 18. 20.]\n"
     ]
    }
   ],
   "source": [
    "\n",
    "N = A.shape[0]\n",
    "P = np.eye(N)\n",
    "L = np.zeros((N, N))\n",
    "U = np.copy(A)\n",
    "\n",
    "partial_pivot = True\n",
    "\n",
    "for k in range(N - 1):\n",
    "    if partial_pivot:\n",
    "        # Găsesc indicele elementului de magnitudine maximă\n",
    "        index = k + np.argmax(np.abs(U[k:, k]))\n",
    "\n",
    "        # Pivotez\n",
    "        U[[k, index]] = U[[index, k]]\n",
    "        L[[k, index]] = L[[index, k]]\n",
    "\n",
    "        # Interschimb în permutare\n",
    "        P[[k, index]] = P[[index, k]]\n",
    "\n",
    "    # Selectez coloana pe care lucrez\n",
    "    ratios = U[k + 1:, k]\n",
    "\n",
    "    # Determin raportul pentru fiecare rând\n",
    "    ratios = ratios / U[k, k]\n",
    "\n",
    "    # Actualizez matricea inferior triunghiulară\n",
    "    L[k + 1:, k] = ratios\n",
    "\n",
    "    # Selectez rândul pe care vreau să-l actualizez\n",
    "    row = U[k, :]\n",
    "\n",
    "    # Înmulțesc fiecare raport cu primul rând\n",
    "    difference = np.outer(ratios, row)\n",
    "\n",
    "    # Actualizez matricea superior triunghiulară\n",
    "    U[k + 1:, :] -= difference\n",
    "\n",
    "L += np.eye(N)\n",
    "\n",
    "print(\"L = \")\n",
    "print(L)\n",
    "print(\"U = \")\n",
    "print(U)\n",
    "print(\"L @ U = \")\n",
    "print(L @ U)\n",
    "print(\"P @ A = \")\n",
    "print(P @ A)\n",
    "print()\n",
    "\n",
    "\n",
    "print(\"Rezolv pentru b = \", b.T)\n",
    "\n",
    "# Permut numerele din vector\n",
    "b = P @ b\n",
    "\n",
    "\n",
    "y = np.zeros(N)\n",
    "\n",
    "# Merg de la prima linie în jos,\n",
    "# și rezolv pe rând ecuațiile prin substituție\n",
    "for i in range(0, N):\n",
    "    coefs = L[i, :i + 1]\n",
    "    values = y[:i + 1]\n",
    "\n",
    "    y[i] = (b[i] - coefs @ values) / L[i, i]\n",
    "\n",
    "print(\"Obțin y = \", y)\n",
    "\n",
    "\n",
    "x = np.zeros(N)\n",
    "\n",
    "# Merg de la ultima linie în sus,\n",
    "# și rezolv pe rând ecuațiile prin substituție\n",
    "for i in range(N - 1, -1, -1):\n",
    "    coefs = U[i, i + 1:]\n",
    "    values = x[i + 1:]\n",
    "\n",
    "    x[i] = (y[i] - coefs @ values) / U[i, i]\n",
    "\n",
    "print(\"Obțin x = \", x)\n",
    "print(\"Verificare: A @ x = \", A @ x)"
   ]
  },
  {
   "cell_type": "markdown",
   "metadata": {},
   "source": [
    "## Exercițiul 5"
   ]
  },
  {
   "cell_type": "code",
   "execution_count": 57,
   "metadata": {},
   "outputs": [],
   "source": [
    "A = np.array([\n",
    "    [4, 2, 4],\n",
    "    [2, 2, 3],\n",
    "    [4, 3, 14]\n",
    "])"
   ]
  },
  {
   "cell_type": "markdown",
   "metadata": {},
   "source": [
    "### a)"
   ]
  },
  {
   "cell_type": "code",
   "execution_count": 58,
   "metadata": {},
   "outputs": [
    {
     "data": {
      "text/plain": [
       "True"
      ]
     },
     "execution_count": 58,
     "metadata": {},
     "output_type": "execute_result"
    }
   ],
   "source": [
    "def simetrica(M):\n",
    "    \"Verifică dacă matricea `M` este simetrică.\"\n",
    "    return np.all(M == M.T)\n",
    "\n",
    "simetrica(A)"
   ]
  },
  {
   "cell_type": "code",
   "execution_count": 59,
   "metadata": {
    "scrolled": true
   },
   "outputs": [
    {
     "data": {
      "text/plain": [
       "True"
      ]
     },
     "execution_count": 59,
     "metadata": {},
     "output_type": "execute_result"
    }
   ],
   "source": [
    "def pozitiv_semidefinita(M):\n",
    "    \"Verifică dacă matricea M este pozitiv-semidefinită.\"\n",
    "    for i in range(M.shape[0]):\n",
    "        minor = M[:i, :i]\n",
    "        # Dacă cel puțin un minor principal nu are determinantul nenegativ,\n",
    "        # nu este pozitiv-semidefinită.\n",
    "        if np.linalg.det(minor) < 0:\n",
    "            return False\n",
    "    return True\n",
    "\n",
    "pozitiv_semidefinita(A)"
   ]
  },
  {
   "cell_type": "markdown",
   "metadata": {},
   "source": [
    "### b)"
   ]
  },
  {
   "cell_type": "code",
   "execution_count": 62,
   "metadata": {},
   "outputs": [
    {
     "name": "stdout",
     "output_type": "stream",
     "text": [
      "[[2. 0. 0.]\n",
      " [1. 1. 0.]\n",
      " [2. 1. 3.]]\n"
     ]
    }
   ],
   "source": [
    "def descompunere_cholesky(M):\n",
    "    N = M.shape[0]\n",
    "\n",
    "    L = np.eye(N)\n",
    "\n",
    "    for i in range(N):\n",
    "        L_i = np.eye(N)\n",
    "\n",
    "        pivot = M[i, i]\n",
    "        L_i[i:, i] = M[i:, i] / np.sqrt(pivot)\n",
    "\n",
    "        M_nou = np.eye(N)\n",
    "        outer = np.outer(M[i + 1:, i], M[i, i + 1:])\n",
    "        M_nou[i + 1:, i + 1:] = M[i + 1:, i + 1:] - outer / pivot\n",
    "\n",
    "        L = L @ L_i\n",
    "        M = M_nou\n",
    "\n",
    "    return L\n",
    "\n",
    "L = descompunere_cholesky(A)\n",
    "print(L)"
   ]
  },
  {
   "cell_type": "markdown",
   "metadata": {},
   "source": [
    "### c)\n",
    "\n",
    "Din descompunerea Cholesky am obținut $L$, și știm că $A = L L^T$.\n",
    "\n",
    "Ecuația se rescrie\n",
    "\n",
    "$$L L^T x = b$$\n",
    "\n",
    "Deci putem rezolva mai întâi sistemul inferior triunghiular\n",
    "\n",
    "$$L y = b$$\n",
    "\n",
    "Și apoi cel superior triunghiular\n",
    "\n",
    "$$L^T x = y$$"
   ]
  },
  {
   "cell_type": "code",
   "execution_count": 63,
   "metadata": {},
   "outputs": [],
   "source": [
    "b = np.array([\n",
    "    [10],\n",
    "    [6],\n",
    "    [11]\n",
    "])"
   ]
  },
  {
   "cell_type": "code",
   "execution_count": 65,
   "metadata": {},
   "outputs": [
    {
     "name": "stdout",
     "output_type": "stream",
     "text": [
      "x = [2. 1. 0.]\n"
     ]
    }
   ],
   "source": [
    "def substitutie_descendenta(U, b):\n",
    "    N = b.shape[0]\n",
    "    x = np.zeros(N)\n",
    "\n",
    "    for i in range(N - 1, -1, -1):\n",
    "        coefs = U[i, i + 1:]\n",
    "        values = x[i + 1:]\n",
    "\n",
    "        x[i] = (b[i] - coefs @ values) / U[i, i]\n",
    "\n",
    "    return x\n",
    "\n",
    "def substitutie_ascendenta(L, b):\n",
    "    N = b.shape[0]\n",
    "    x = np.zeros(N)\n",
    "\n",
    "    for i in range(0, N):\n",
    "        coefs = L[i, :i + 1]\n",
    "        values = x[:i + 1]\n",
    "\n",
    "        x[i] = (b[i] - coefs @ values) / L[i, i]\n",
    "\n",
    "    return x\n",
    "\n",
    "y = substitutie_ascendenta(L, b)\n",
    "x = substitutie_descendenta(L.T, y)\n",
    "print(\"x =\",x)"
   ]
  },
  {
   "cell_type": "code",
   "execution_count": null,
   "metadata": {},
   "outputs": [],
   "source": []
  }
 ],
 "metadata": {
  "kernelspec": {
   "display_name": "Python 3",
   "language": "python",
   "name": "python3"
  },
  "language_info": {
   "codemirror_mode": {
    "name": "ipython",
    "version": 3
   },
   "file_extension": ".py",
   "mimetype": "text/x-python",
   "name": "python",
   "nbconvert_exporter": "python",
   "pygments_lexer": "ipython3",
   "version": "3.8.6"
  }
 },
 "nbformat": 4,
 "nbformat_minor": 4
}
